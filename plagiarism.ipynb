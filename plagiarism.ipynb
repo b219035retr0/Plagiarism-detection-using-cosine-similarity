{
 "cells": [
  {
   "cell_type": "code",
   "execution_count": 37,
   "id": "f7ca694f",
   "metadata": {},
   "outputs": [],
   "source": [
    "import os\n"
   ]
  },
  {
   "cell_type": "code",
   "execution_count": 38,
   "id": "f270f385",
   "metadata": {},
   "outputs": [],
   "source": [
    "from sklearn.feature_extraction.text import TfidfVectorizer"
   ]
  },
  {
   "cell_type": "code",
   "execution_count": 39,
   "id": "a2b1bed0",
   "metadata": {},
   "outputs": [],
   "source": [
    "from sklearn.metrics.pairwise import cosine_similarity"
   ]
  },
  {
   "cell_type": "code",
   "execution_count": 40,
   "id": "89396f9c",
   "metadata": {},
   "outputs": [],
   "source": [
    "student_files=[doc for doc in os.listdir() if doc.endswith('.txt')] "
   ]
  },
  {
   "cell_type": "code",
   "execution_count": 41,
   "id": "2779da03",
   "metadata": {},
   "outputs": [],
   "source": [
    "student_notes = [open(_file,encoding='utf-8').read() for _file in student_files]"
   ]
  },
  {
   "cell_type": "code",
   "execution_count": 42,
   "id": "8fa19d66",
   "metadata": {},
   "outputs": [],
   "source": [
    "def vectorize(text):\n",
    "    return TfidfVectorizer().fit_transform(text).toarray()"
   ]
  },
  {
   "cell_type": "code",
   "execution_count": 43,
   "id": "22c9ad5c",
   "metadata": {},
   "outputs": [],
   "source": [
    "def similarity(doc1,doc2):\n",
    "    return cosine_similarity([doc1,doc2])"
   ]
  },
  {
   "cell_type": "code",
   "execution_count": 44,
   "id": "110339e7",
   "metadata": {},
   "outputs": [],
   "source": [
    "vectors=vectorize(student_notes)"
   ]
  },
  {
   "cell_type": "code",
   "execution_count": 45,
   "id": "b60b0189",
   "metadata": {},
   "outputs": [
    {
     "data": {
      "text/plain": [
       "array([[0.04114739, 0.04114739, 0.05783122, 0.32917909, 0.04114739,\n",
       "        0.        , 0.04114739, 0.        , 0.04114739, 0.        ,\n",
       "        0.05783122, 0.        , 0.04114739, 0.04114739, 0.05783122,\n",
       "        0.04114739, 0.        , 0.04114739, 0.05783122, 0.05783122,\n",
       "        0.04114739, 0.        , 0.05783122, 0.        , 0.11566243,\n",
       "        0.04114739, 0.        , 0.12344216, 0.        , 0.04114739,\n",
       "        0.04114739, 0.        , 0.05783122, 0.04114739, 0.24688432,\n",
       "        0.12344216, 0.08229477, 0.04114739, 0.12344216, 0.04114739,\n",
       "        0.12344216, 0.04114739, 0.04114739, 0.04114739, 0.04114739,\n",
       "        0.04114739, 0.04114739, 0.08229477, 0.08229477, 0.04114739,\n",
       "        0.04114739, 0.04114739, 0.08229477, 0.12344216, 0.04114739,\n",
       "        0.12344216, 0.        , 0.04114739, 0.08229477, 0.        ,\n",
       "        0.04114739, 0.        , 0.04114739, 0.05783122, 0.04114739,\n",
       "        0.05783122, 0.04114739, 0.        , 0.08229477, 0.05783122,\n",
       "        0.04114739, 0.04114739, 0.        , 0.04114739, 0.74065296,\n",
       "        0.16458955, 0.05783122, 0.04114739, 0.        , 0.08229477,\n",
       "        0.08229477],\n",
       "       [0.04891515, 0.04891515, 0.        , 0.44023636, 0.04891515,\n",
       "        0.06874854, 0.04891515, 0.34374269, 0.04891515, 0.13749708,\n",
       "        0.        , 0.06874854, 0.04891515, 0.04891515, 0.        ,\n",
       "        0.04891515, 0.06874854, 0.04891515, 0.        , 0.        ,\n",
       "        0.04891515, 0.06874854, 0.        , 0.06874854, 0.        ,\n",
       "        0.0978303 , 0.06874854, 0.0978303 , 0.06874854, 0.04891515,\n",
       "        0.04891515, 0.06874854, 0.        , 0.04891515, 0.14674545,\n",
       "        0.14674545, 0.0978303 , 0.04891515, 0.14674545, 0.04891515,\n",
       "        0.04891515, 0.0978303 , 0.04891515, 0.04891515, 0.04891515,\n",
       "        0.04891515, 0.04891515, 0.04891515, 0.04891515, 0.04891515,\n",
       "        0.04891515, 0.04891515, 0.0978303 , 0.14674545, 0.04891515,\n",
       "        0.04891515, 0.06874854, 0.04891515, 0.04891515, 0.06874854,\n",
       "        0.04891515, 0.06874854, 0.04891515, 0.        , 0.04891515,\n",
       "        0.        , 0.04891515, 0.06874854, 0.0978303 , 0.        ,\n",
       "        0.04891515, 0.04891515, 0.06874854, 0.04891515, 0.48915152,\n",
       "        0.34240606, 0.        , 0.04891515, 0.06874854, 0.0978303 ,\n",
       "        0.04891515]])"
      ]
     },
     "execution_count": 45,
     "metadata": {},
     "output_type": "execute_result"
    }
   ],
   "source": [
    "vectors"
   ]
  },
  {
   "cell_type": "code",
   "execution_count": 46,
   "id": "e3770e73",
   "metadata": {},
   "outputs": [],
   "source": [
    "s_vectors=list(zip(student_files,vectors))"
   ]
  },
  {
   "cell_type": "code",
   "execution_count": 47,
   "id": "14112af7",
   "metadata": {},
   "outputs": [
    {
     "data": {
      "text/plain": [
       "[('test.txt',\n",
       "  array([0.04114739, 0.04114739, 0.05783122, 0.32917909, 0.04114739,\n",
       "         0.        , 0.04114739, 0.        , 0.04114739, 0.        ,\n",
       "         0.05783122, 0.        , 0.04114739, 0.04114739, 0.05783122,\n",
       "         0.04114739, 0.        , 0.04114739, 0.05783122, 0.05783122,\n",
       "         0.04114739, 0.        , 0.05783122, 0.        , 0.11566243,\n",
       "         0.04114739, 0.        , 0.12344216, 0.        , 0.04114739,\n",
       "         0.04114739, 0.        , 0.05783122, 0.04114739, 0.24688432,\n",
       "         0.12344216, 0.08229477, 0.04114739, 0.12344216, 0.04114739,\n",
       "         0.12344216, 0.04114739, 0.04114739, 0.04114739, 0.04114739,\n",
       "         0.04114739, 0.04114739, 0.08229477, 0.08229477, 0.04114739,\n",
       "         0.04114739, 0.04114739, 0.08229477, 0.12344216, 0.04114739,\n",
       "         0.12344216, 0.        , 0.04114739, 0.08229477, 0.        ,\n",
       "         0.04114739, 0.        , 0.04114739, 0.05783122, 0.04114739,\n",
       "         0.05783122, 0.04114739, 0.        , 0.08229477, 0.05783122,\n",
       "         0.04114739, 0.04114739, 0.        , 0.04114739, 0.74065296,\n",
       "         0.16458955, 0.05783122, 0.04114739, 0.        , 0.08229477,\n",
       "         0.08229477])),\n",
       " ('test2.txt',\n",
       "  array([0.04891515, 0.04891515, 0.        , 0.44023636, 0.04891515,\n",
       "         0.06874854, 0.04891515, 0.34374269, 0.04891515, 0.13749708,\n",
       "         0.        , 0.06874854, 0.04891515, 0.04891515, 0.        ,\n",
       "         0.04891515, 0.06874854, 0.04891515, 0.        , 0.        ,\n",
       "         0.04891515, 0.06874854, 0.        , 0.06874854, 0.        ,\n",
       "         0.0978303 , 0.06874854, 0.0978303 , 0.06874854, 0.04891515,\n",
       "         0.04891515, 0.06874854, 0.        , 0.04891515, 0.14674545,\n",
       "         0.14674545, 0.0978303 , 0.04891515, 0.14674545, 0.04891515,\n",
       "         0.04891515, 0.0978303 , 0.04891515, 0.04891515, 0.04891515,\n",
       "         0.04891515, 0.04891515, 0.04891515, 0.04891515, 0.04891515,\n",
       "         0.04891515, 0.04891515, 0.0978303 , 0.14674545, 0.04891515,\n",
       "         0.04891515, 0.06874854, 0.04891515, 0.04891515, 0.06874854,\n",
       "         0.04891515, 0.06874854, 0.04891515, 0.        , 0.04891515,\n",
       "         0.        , 0.04891515, 0.06874854, 0.0978303 , 0.        ,\n",
       "         0.04891515, 0.04891515, 0.06874854, 0.04891515, 0.48915152,\n",
       "         0.34240606, 0.        , 0.04891515, 0.06874854, 0.0978303 ,\n",
       "         0.04891515]))]"
      ]
     },
     "execution_count": 47,
     "metadata": {},
     "output_type": "execute_result"
    }
   ],
   "source": [
    "s_vectors"
   ]
  },
  {
   "cell_type": "code",
   "execution_count": 48,
   "id": "9d967fc3",
   "metadata": {},
   "outputs": [],
   "source": [
    "plagiarism_results=set()"
   ]
  },
  {
   "cell_type": "code",
   "execution_count": 49,
   "id": "80b207ad",
   "metadata": {},
   "outputs": [],
   "source": [
    "def check_plagiarism():\n",
    "    global s_vectors\n",
    "    for student_a,text_vector_a in s_vectors:\n",
    "        new_vectors=s_vectors.copy()\n",
    "        current_index=new_vectors.index((student_a,text_vector_a))\n",
    "        print(current_index)\n",
    "        del new_vectors[current_index]#avoid the same files in results\n",
    "        for student_b,text_vector_b in new_vectors:\n",
    "            sim_score=similarity(text_vector_a,text_vector_b)[0][1]#result in a 2d array\n",
    "            print(similarity(text_vector_a,text_vector_b)[0][1])\n",
    "            student_pair=sorted((student_a,student_b))\n",
    "            print(similarity(text_vector_a,text_vector_b))\n",
    "            print(student_pair)\n",
    "            score=(student_pair[0],student_pair[1],sim_score)#plagiarism score\n",
    "            plagiarism_results.add(score)\n",
    "        return plagiarism_results"
   ]
  },
  {
   "cell_type": "code",
   "execution_count": 50,
   "id": "5a063aba",
   "metadata": {},
   "outputs": [
    {
     "name": "stdout",
     "output_type": "stream",
     "text": [
      "0\n",
      "0.8010667955201803\n",
      "[[1.        0.8010668]\n",
      " [0.8010668 1.       ]]\n",
      "['test.txt', 'test2.txt']\n",
      "('test.txt', 'test2.txt', 0.8010667955201803)\n"
     ]
    }
   ],
   "source": [
    "for data in check_plagiarism():\n",
    "    print(data)"
   ]
  },
  {
   "cell_type": "code",
   "execution_count": 51,
   "id": "b3dbccff",
   "metadata": {},
   "outputs": [],
   "source": [
    "plagiarism=list(data)"
   ]
  },
  {
   "cell_type": "code",
   "execution_count": 52,
   "id": "972d8420",
   "metadata": {},
   "outputs": [
    {
     "data": {
      "text/plain": [
       "['test.txt', 'test2.txt', 0.8010667955201803]"
      ]
     },
     "execution_count": 52,
     "metadata": {},
     "output_type": "execute_result"
    }
   ],
   "source": [
    "plagiarism"
   ]
  },
  {
   "cell_type": "code",
   "execution_count": 53,
   "id": "2fc5d672",
   "metadata": {},
   "outputs": [],
   "source": [
    "plagiarism[2] = plagiarism[2]*100"
   ]
  },
  {
   "cell_type": "code",
   "execution_count": 54,
   "id": "3cb393b1",
   "metadata": {},
   "outputs": [
    {
     "name": "stdout",
     "output_type": "stream",
     "text": [
      "plagiarism percentage: 80.10667955201804\n"
     ]
    }
   ],
   "source": [
    "print(\"plagiarism percentage:\",plagiarism[2])"
   ]
  },
  {
   "cell_type": "code",
   "execution_count": null,
   "id": "0983665f",
   "metadata": {},
   "outputs": [],
   "source": []
  },
  {
   "cell_type": "code",
   "execution_count": null,
   "id": "6e60b3f2",
   "metadata": {},
   "outputs": [],
   "source": []
  }
 ],
 "metadata": {
  "kernelspec": {
   "display_name": "Python 3 (ipykernel)",
   "language": "python",
   "name": "python3"
  },
  "language_info": {
   "codemirror_mode": {
    "name": "ipython",
    "version": 3
   },
   "file_extension": ".py",
   "mimetype": "text/x-python",
   "name": "python",
   "nbconvert_exporter": "python",
   "pygments_lexer": "ipython3",
   "version": "3.9.12"
  }
 },
 "nbformat": 4,
 "nbformat_minor": 5
}
