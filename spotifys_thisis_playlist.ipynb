{
  "nbformat": 4,
  "nbformat_minor": 0,
  "metadata": {
    "colab": {
      "provenance": [],
      "authorship_tag": "ABX9TyPSu68Mqxaxz4UckJgKqjKY",
      "include_colab_link": true
    },
    "kernelspec": {
      "name": "python3",
      "display_name": "Python 3"
    },
    "language_info": {
      "name": "python"
    }
  },
  "cells": [
    {
      "cell_type": "markdown",
      "metadata": {
        "id": "view-in-github",
        "colab_type": "text"
      },
      "source": [
        "<a href=\"https://colab.research.google.com/github/b219035retr0/srikanthNanda/blob/spotify-playlist-list/spotifys_thisis_playlist.ipynb\" target=\"_parent\"><img src=\"https://colab.research.google.com/assets/colab-badge.svg\" alt=\"Open In Colab\"/></a>"
      ]
    },
    {
      "cell_type": "code",
      "execution_count": null,
      "metadata": {
        "colab": {
          "base_uri": "https://localhost:8080/"
        },
        "id": "oOzHkOmh1CAm",
        "outputId": "6fcdfddf-14b9-436b-cfa3-45df4873cd96"
      },
      "outputs": [
        {
          "output_type": "stream",
          "name": "stdout",
          "text": [
            "Looking in indexes: https://pypi.org/simple, https://us-python.pkg.dev/colab-wheels/public/simple/\n",
            "Collecting python-dotenv\n",
            "  Downloading python_dotenv-1.0.0-py3-none-any.whl (19 kB)\n",
            "Collecting spotipy\n",
            "  Downloading spotipy-2.23.0-py3-none-any.whl (29 kB)\n",
            "Collecting redis>=3.5.3\n",
            "  Downloading redis-4.5.4-py3-none-any.whl (238 kB)\n",
            "\u001b[2K     \u001b[90m━━━━━━━━━━━━━━━━━━━━━━━━━━━━━━━━━━━━━━━\u001b[0m \u001b[32m238.9/238.9 kB\u001b[0m \u001b[31m4.9 MB/s\u001b[0m eta \u001b[36m0:00:00\u001b[0m\n",
            "\u001b[?25hRequirement already satisfied: requests>=2.25.0 in /usr/local/lib/python3.9/dist-packages (from spotipy) (2.27.1)\n",
            "Requirement already satisfied: urllib3>=1.26.0 in /usr/local/lib/python3.9/dist-packages (from spotipy) (1.26.15)\n",
            "Requirement already satisfied: six>=1.15.0 in /usr/local/lib/python3.9/dist-packages (from spotipy) (1.16.0)\n",
            "Collecting async-timeout>=4.0.2\n",
            "  Downloading async_timeout-4.0.2-py3-none-any.whl (5.8 kB)\n",
            "Requirement already satisfied: idna<4,>=2.5 in /usr/local/lib/python3.9/dist-packages (from requests>=2.25.0->spotipy) (3.4)\n",
            "Requirement already satisfied: charset-normalizer~=2.0.0 in /usr/local/lib/python3.9/dist-packages (from requests>=2.25.0->spotipy) (2.0.12)\n",
            "Requirement already satisfied: certifi>=2017.4.17 in /usr/local/lib/python3.9/dist-packages (from requests>=2.25.0->spotipy) (2022.12.7)\n",
            "Installing collected packages: python-dotenv, async-timeout, redis, spotipy\n",
            "Successfully installed async-timeout-4.0.2 python-dotenv-1.0.0 redis-4.5.4 spotipy-2.23.0\n"
          ]
        }
      ],
      "source": [
        "pip install python-dotenv spotipy"
      ]
    },
    {
      "cell_type": "code",
      "source": [
        "import csv\n",
        "import os\n",
        "import re\n",
        "\n",
        "import spotipy\n",
        "from dotenv import load_dotenv\n",
        "from spotipy.oauth2 import SpotifyClientCredentials"
      ],
      "metadata": {
        "id": "rpz10du01nJY"
      },
      "execution_count": null,
      "outputs": []
    },
    {
      "cell_type": "code",
      "source": [
        "# load credentials from .env file\n",
        "load_dotenv()\n",
        "\n",
        "CLIENT_ID = os.getenv(\"CLIENT_ID\", \"3ae2cf4c1bc94923a97d237f08bcbd7f\")\n",
        "CLIENT_SECRET = os.getenv(\"CLIENT_SECRET\", \"03d02d9e0c7d44ca879f152fc4071921\")\n",
        "OUTPUT_FILE_NAME = \"track_info.csv\"\n",
        "\n",
        "# change for your target playlist\n",
        "PLAYLIST_LINK = \"https://open.spotify.com/playlist/08o6XsYANRpEvCaL9Rszvk?si=9effdcc0c9724df8\""
      ],
      "metadata": {
        "id": "qawmfWGQ1ySv"
      },
      "execution_count": null,
      "outputs": []
    },
    {
      "cell_type": "code",
      "source": [
        "# authenticate\n",
        "client_credentials_manager = SpotifyClientCredentials(\n",
        "    client_id=CLIENT_ID, client_secret=CLIENT_SECRET\n",
        ")\n",
        "\n",
        "# create spotify session object\n",
        "session = spotipy.Spotify(client_credentials_manager=client_credentials_manager)"
      ],
      "metadata": {
        "id": "zDXAXvzT2Bor"
      },
      "execution_count": null,
      "outputs": []
    },
    {
      "cell_type": "code",
      "source": [
        "if match := re.match(r\"https://open.spotify.com/playlist/(.*)\\?\", PLAYLIST_LINK):\n",
        "    playlist_uri = match.groups()[0]\n",
        "else:\n",
        "    raise ValueError(\"Expected format: https://open.spotify.com/playlist/...\")"
      ],
      "metadata": {
        "id": "9WcCl6Rh2JPH"
      },
      "execution_count": null,
      "outputs": []
    },
    {
      "cell_type": "code",
      "source": [
        "# get list of tracks in a given playlist (note: max playlist length 100)\n",
        "tracks = session.playlist_tracks(playlist_uri)[\"items\"]"
      ],
      "metadata": {
        "id": "E7EFtQ4n2Rdo"
      },
      "execution_count": null,
      "outputs": []
    },
    {
      "cell_type": "code",
      "source": [
        "# create csv file\n",
        "with open(OUTPUT_FILE_NAME, \"w\", encoding=\"utf-8\") as file:\n",
        "    writer = csv.writer(file)\n",
        "    \n",
        "    # write header column names\n",
        "    writer.writerow([\"track\", \"artist\"])\n",
        "\n",
        "    # extract name and artist\n",
        "    for track in tracks:\n",
        "        name = track[\"track\"][\"name\"]\n",
        "        artists = \", \".join(\n",
        "            [artist[\"name\"] for artist in track[\"track\"][\"artists\"]]\n",
        "        )\n",
        "\n",
        "        # write to csv\n",
        "        writer.writerow([name, artists])"
      ],
      "metadata": {
        "id": "8acft_W_2Ul7"
      },
      "execution_count": null,
      "outputs": []
    },
    {
      "cell_type": "code",
      "source": [],
      "metadata": {
        "id": "5cC85Uml2ZvK"
      },
      "execution_count": null,
      "outputs": []
    }
  ]
}